{
 "cells": [
  {
   "cell_type": "markdown",
   "metadata": {},
   "source": [
    "# Preparing the Base Model"
   ]
  },
  {
   "cell_type": "code",
   "execution_count": 1,
   "metadata": {},
   "outputs": [],
   "source": [
    "import os"
   ]
  },
  {
   "cell_type": "code",
   "execution_count": 2,
   "metadata": {},
   "outputs": [
    {
     "data": {
      "text/plain": [
       "'c:\\\\Users\\\\harik\\\\Desktop\\\\All Folder\\\\PGDA\\\\Interships & Projects\\\\NLP\\\\End-to-End Workflow\\\\cnnClassifier\\\\research'"
      ]
     },
     "execution_count": 2,
     "metadata": {},
     "output_type": "execute_result"
    }
   ],
   "source": [
    "%pwd"
   ]
  },
  {
   "cell_type": "code",
   "execution_count": 3,
   "metadata": {},
   "outputs": [],
   "source": [
    "os.chdir(\"../\")"
   ]
  },
  {
   "cell_type": "code",
   "execution_count": 4,
   "metadata": {},
   "outputs": [
    {
     "data": {
      "text/plain": [
       "'c:\\\\Users\\\\harik\\\\Desktop\\\\All Folder\\\\PGDA\\\\Interships & Projects\\\\NLP\\\\End-to-End Workflow\\\\cnnClassifier'"
      ]
     },
     "execution_count": 4,
     "metadata": {},
     "output_type": "execute_result"
    }
   ],
   "source": [
    "%pwd"
   ]
  },
  {
   "cell_type": "code",
   "execution_count": null,
   "metadata": {},
   "outputs": [],
   "source": []
  },
  {
   "cell_type": "code",
   "execution_count": 5,
   "metadata": {},
   "outputs": [],
   "source": [
    "# Now below we are writting the entity"
   ]
  },
  {
   "cell_type": "code",
   "execution_count": 6,
   "metadata": {},
   "outputs": [],
   "source": [
    "from dataclasses import dataclass\n",
    "from pathlib import Path\n",
    "\n",
    "@dataclass(frozen= True)\n",
    "class PrepareBaseModelconfig:\n",
    "    root_dir: Path\n",
    "    base_model_path: Path\n",
    "    updated_base_model_path: Path\n",
    "    params_image_size: list\n",
    "    params_learning_rate: float\n",
    "    params_include_top: bool\n",
    "    params_weights: str\n",
    "    params_classes: int"
   ]
  },
  {
   "cell_type": "code",
   "execution_count": null,
   "metadata": {},
   "outputs": [],
   "source": []
  },
  {
   "cell_type": "code",
   "execution_count": 7,
   "metadata": {},
   "outputs": [],
   "source": [
    "# Now after updating entity we need to update configuration_manager"
   ]
  },
  {
   "cell_type": "code",
   "execution_count": 8,
   "metadata": {},
   "outputs": [],
   "source": [
    "from cnnClassifier.constants import *\n",
    "from cnnClassifier.utils import read_yaml, create_directories"
   ]
  },
  {
   "cell_type": "code",
   "execution_count": 9,
   "metadata": {},
   "outputs": [],
   "source": [
    "class ConfigurationManager:\n",
    "    def __init__(\n",
    "            self,\n",
    "            config_filepath = CONFIG_FILE_PATH,\n",
    "            params_filepath = PARAMS_FILE_PATH):\n",
    "\n",
    "            self.config = read_yaml(config_filepath)\n",
    "            self.params = read_yaml(params_filepath)\n",
    "\n",
    "            create_directories([self.config.artifacts_root])\n",
    "\n",
    "\n",
    "    def get_prepare_base_model_config(self) -> PrepareBaseModelconfig:\n",
    "          \n",
    "          config = self.config.prepare_base_model\n",
    "\n",
    "          create_directories([config.root_dir])\n",
    "\n",
    "          prepare_base_model_config = PrepareBaseModelconfig(\n",
    "                root_dir= Path(config.root_dir),\n",
    "                base_model_path= Path(config.base_model_path),\n",
    "                updated_base_model_path= Path(config.updated_base_model_path),\n",
    "                params_image_size = self.params.IMAGE_SIZE,\n",
    "                params_learning_rate = self.params.LEARNING_RATE,\n",
    "                params_include_top = self.params.INCLUDE_TOP,\n",
    "                params_weights = self.params.WEIGHTS,\n",
    "                params_classes = self.params.CLASSES\n",
    "          )\n",
    "\n",
    "          return prepare_base_model_config"
   ]
  },
  {
   "cell_type": "code",
   "execution_count": 10,
   "metadata": {},
   "outputs": [],
   "source": [
    "# Now we write the components"
   ]
  },
  {
   "cell_type": "code",
   "execution_count": 11,
   "metadata": {},
   "outputs": [],
   "source": [
    "import os\n",
    "import urllib.request as request\n",
    "from zipfile import ZipFile\n",
    "import tensorflow as tf"
   ]
  },
  {
   "cell_type": "code",
   "execution_count": null,
   "metadata": {},
   "outputs": [],
   "source": [
    "class PrepareBaseModel:\n",
    "    def __init__(self, config: PrepareBaseModelconfig):\n",
    "\n",
    "        self.config = config\n",
    "\n",
    "    def get_base_model(self):\n",
    "        self.model = tf.keras.applications.vgg16.VGG16(\n",
    "            input = self.config.params_image_size,\n",
    "            weights= self.config.params_weights,\n",
    "            include_top= self.config.params_include_top\n",
    "        )\n",
    "\n",
    "        self.save_model(path= self.config.base_model_path, model=self.model)   #save_model defined at last\n",
    "\n",
    "\n",
    "    @staticmethod\n",
    "    def _prepare_full_model(model, classes, freeze_all, freeze_till, learning_rate):\n",
    "\n",
    "        if freeze_all:\n",
    "            for layer in model.layers:\n",
    "                model.trainable = False                          # Freezing all the layers\n",
    "\n",
    "        elif (freeze_till is not None) and (freeze_till > 0):\n",
    "            for layer in model.layers[:-freeze_till]:\n",
    "                model.trainable = False\n",
    "\n",
    "        flatten_in = tf.keras.layers.Flatten()(model.output)    \n",
    "\n",
    "        \"\"\" \n",
    "            ☝️\n",
    "            We need to do the flattem explicitely becuase we are only taking the convolution part\n",
    "            of the model with include_top = False, thus it wont have its predetermined fully connected layers\n",
    "            so we add the flatten layer here \n",
    "         \n",
    "         \"\"\"\n",
    "\n",
    "        prediction = tf.keras.layers.Dense(\n",
    "            units= classes,\n",
    "            activation= 'softmax'\n",
    "        )(flatten_in)\n",
    "\n",
    "        \"\"\" \n",
    "            ☝️\n",
    "            Now we created a Dense layer, This is the output layer, here we are not creating any hidden layyers for the learning purpose,\n",
    "            as the we are using the defualt weights from imagenet, which is a huge dataset, so our model is already trained for indentifying\n",
    "            various objects using imagenet dataset. So here we are only using the convolutional layer of the VGG16 model as a feature \n",
    "            extractor. [ Here even if we retrain, we may not need a lot of computational resources as the weights are already computed ].\n",
    "            SO we are only using a ouput layer with 2 neurons.\n",
    "\n",
    "        \"\"\"\n",
    "\n",
    "\n",
    "        full_model = tf.keras.models.Model(\n",
    "            inputs= model.input,\n",
    "            outputs= prediction\n",
    "        )\n",
    "\n",
    "        full_model.compile(\n",
    "            optimizer= tf.keras.optimizers.SGD(learning_rate= learning_rate),\n",
    "            loss= tf.keras.losses.CategoricalCrossentropy(),\n",
    "            metrics= [\"accuracy\"]\n",
    "            )\n",
    "        \n",
    "        full_model.summary()\n",
    "        return full_model\n",
    "\n",
    "\n",
    "    def update_base_model(self):\n",
    "        self.full_model = self._prepare_full_model(\n",
    "            model= self.model,\n",
    "            classes= self.config.params_classes,\n",
    "            learning_rate= self.config.params_learning_rate,\n",
    "            freeze_all= True,\n",
    "            freeze_till= None\n",
    "        )\n",
    "\n",
    "        self.save_model(path= self.config.updated_base_model_path, model= self.full_model)\n",
    "\n",
    "\n",
    "    @staticmethod\n",
    "    def save_model(path: Path, model: tf.keras.Model):\n",
    "        model.save(path)"
   ]
  }
 ],
 "metadata": {
  "kernelspec": {
   "display_name": "cnncls",
   "language": "python",
   "name": "python3"
  },
  "language_info": {
   "codemirror_mode": {
    "name": "ipython",
    "version": 3
   },
   "file_extension": ".py",
   "mimetype": "text/x-python",
   "name": "python",
   "nbconvert_exporter": "python",
   "pygments_lexer": "ipython3",
   "version": "3.8.17"
  },
  "orig_nbformat": 4
 },
 "nbformat": 4,
 "nbformat_minor": 2
}
