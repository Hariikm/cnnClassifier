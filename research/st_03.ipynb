{
 "cells": [
  {
   "cell_type": "markdown",
   "metadata": {},
   "source": [
    "## Prepare Callback"
   ]
  },
  {
   "cell_type": "code",
   "execution_count": 1,
   "metadata": {},
   "outputs": [],
   "source": [
    "import os"
   ]
  },
  {
   "cell_type": "code",
   "execution_count": 2,
   "metadata": {},
   "outputs": [
    {
     "data": {
      "text/plain": [
       "'c:\\\\Users\\\\harik\\\\Desktop\\\\All Folder\\\\PGDA\\\\Interships & Projects\\\\NLP\\\\End-to-End Workflow\\\\cnnClassifier\\\\research'"
      ]
     },
     "execution_count": 2,
     "metadata": {},
     "output_type": "execute_result"
    }
   ],
   "source": [
    "%pwd"
   ]
  },
  {
   "cell_type": "code",
   "execution_count": 3,
   "metadata": {},
   "outputs": [],
   "source": [
    "os.chdir(\"../\")"
   ]
  },
  {
   "cell_type": "code",
   "execution_count": 4,
   "metadata": {},
   "outputs": [
    {
     "data": {
      "text/plain": [
       "'c:\\\\Users\\\\harik\\\\Desktop\\\\All Folder\\\\PGDA\\\\Interships & Projects\\\\NLP\\\\End-to-End Workflow\\\\cnnClassifier'"
      ]
     },
     "execution_count": 4,
     "metadata": {},
     "output_type": "execute_result"
    }
   ],
   "source": [
    "%pwd"
   ]
  },
  {
   "cell_type": "code",
   "execution_count": 5,
   "metadata": {},
   "outputs": [],
   "source": [
    "# Now we define the entity"
   ]
  },
  {
   "cell_type": "code",
   "execution_count": 6,
   "metadata": {},
   "outputs": [],
   "source": [
    "from dataclasses import dataclass\n",
    "from pathlib import Path\n",
    "\n",
    "@dataclass(frozen= True)\n",
    "class PrepareCallbackConfig:\n",
    "    root_dir: Path\n",
    "    tensorboard_root_log_dir: Path\n",
    "    checkpoint_model_filepath: Path"
   ]
  },
  {
   "cell_type": "code",
   "execution_count": 7,
   "metadata": {},
   "outputs": [],
   "source": [
    "# Now we define configuration manager"
   ]
  },
  {
   "cell_type": "code",
   "execution_count": 8,
   "metadata": {},
   "outputs": [],
   "source": [
    "from cnnClassifier.constants import *\n",
    "from cnnClassifier.utils import read_yaml, create_directories"
   ]
  },
  {
   "cell_type": "code",
   "execution_count": 9,
   "metadata": {},
   "outputs": [],
   "source": [
    "class ConfigurationManager:\n",
    "    def __init__(\n",
    "            self,\n",
    "            config_filepath = CONFIG_FILE_PATH,\n",
    "            params_filepath = PARAMS_FILE_PATH):\n",
    "\n",
    "            self.config = read_yaml(config_filepath)\n",
    "            self.params = read_yaml(params_filepath)\n",
    "\n",
    "            create_directories([self.config.artifacts_root])\n",
    "\n",
    "\n",
    "    def get_prepare_callback_config(self) -> PrepareCallbackConfig:\n",
    "          \n",
    "          config = self.config.prepare_callbacks\n",
    "          model_ckpt_dir= os.path.dirname(config.checkpoint_model_filepath)   # Now it ignores the extension (model.h5) and only creating the dir\n",
    "\n",
    "          create_directories([\n",
    "                Path(model_ckpt_dir),\n",
    "                Path(config.tensorboard_root_log_dir)  # Here we dont need to create root dir again as it will be automatically created  with these codes                                                        \n",
    "          ])\n",
    "\n",
    "          prepare_callback_config = PrepareCallbackConfig(               # Now we calling the entity we prepared before\n",
    "                root_dir= Path(config.root_dir),\n",
    "                tensorboard_root_log_dir= Path(config.tensorboard_root_log_dir),\n",
    "                checkpoint_model_filepath= Path(config.checkpoint_model_filepath)\n",
    "          )\n",
    "\n",
    "          return prepare_callback_config"
   ]
  },
  {
   "cell_type": "code",
   "execution_count": 10,
   "metadata": {},
   "outputs": [],
   "source": [
    "# Now we need to update components"
   ]
  },
  {
   "cell_type": "code",
   "execution_count": 11,
   "metadata": {},
   "outputs": [],
   "source": [
    "import os\n",
    "import urllib.request as request\n",
    "from zipfile import ZipFile\n",
    "import tensorflow as tf\n",
    "import time"
   ]
  },
  {
   "cell_type": "code",
   "execution_count": 12,
   "metadata": {},
   "outputs": [],
   "source": [
    "class PrepareCallback:\n",
    "\n",
    "    def __init__(self, config: PrepareCallbackConfig):\n",
    "        self.config= config\n",
    "\n",
    "\n",
    "    @property\n",
    "    def _create_tb_callback(self):\n",
    "        timestamp= time.strftime(\"%Y-%m-%d-%H-%M-%S\")\n",
    "        tb_running_log_dir= os.path.join(\n",
    "            self.config.tensorboard_root_log_dir,\n",
    "            f\"tb_logs_at_{timestamp}\"\n",
    "        )\n",
    "        return tf.keras.callbacks.TensorBoard(log_dir= tb_running_log_dir)\n",
    "    \n",
    "    \"\"\" \n",
    "        When we use this property decorator, if we are calling this fuction (object) else where we dont actually need to specify the () to call\n",
    "        it. We can access this object like its a attribute.\n",
    "\n",
    "    \"\"\"\n",
    "\n",
    "    @property\n",
    "    def _create_ckpt_callbacks(self):\n",
    "        return tf.keras.callbacks.ModelCheckpoint(\n",
    "            filepath= self.config.checkpoint_model_filepath,\n",
    "            save_best_only= True\n",
    "        )\n",
    "    \n",
    "    def get_tb_ckpt_callbacks(self):\n",
    "        return[\n",
    "            self._create_tb_callback,\n",
    "            self._create_ckpt_callbacks\n",
    "        ]"
   ]
  },
  {
   "cell_type": "code",
   "execution_count": 13,
   "metadata": {},
   "outputs": [],
   "source": [
    "# Now we need to write the pipeline"
   ]
  },
  {
   "cell_type": "code",
   "execution_count": 14,
   "metadata": {},
   "outputs": [
    {
     "name": "stdout",
     "output_type": "stream",
     "text": [
      "[2023-10-05 11:39:56,710: INFO: common: yaml file: config\\config.yaml loaded succesfully]\n",
      "[2023-10-05 11:39:56,727: INFO: common: yaml file: params.yaml loaded succesfully]\n",
      "[2023-10-05 11:39:56,735: INFO: common: created directory at: artifacts]\n"
     ]
    },
    {
     "ename": "EnsureError",
     "evalue": "Argument path_to_directories of type <class 'pathlib.WindowsPath'> to <function create_directories at 0x0000022B99575040> does not match annotation type <class 'list'>",
     "output_type": "error",
     "traceback": [
      "\u001b[1;31m---------------------------------------------------------------------------\u001b[0m",
      "\u001b[1;31mEnsureError\u001b[0m                               Traceback (most recent call last)",
      "\u001b[1;32mc:\\Users\\harik\\Desktop\\All Folder\\PGDA\\Interships & Projects\\NLP\\End-to-End Workflow\\cnnClassifier\\research\\st_03.ipynb Cell 15\u001b[0m line \u001b[0;36m8\n\u001b[0;32m      <a href='vscode-notebook-cell:/c%3A/Users/harik/Desktop/All%20Folder/PGDA/Interships%20%26%20Projects/NLP/End-to-End%20Workflow/cnnClassifier/research/st_03.ipynb#X20sZmlsZQ%3D%3D?line=4'>5</a>\u001b[0m     callback_list\u001b[39m=\u001b[39m prepare_callbacks\u001b[39m.\u001b[39mget_tb_ckpt_callbacks()\n\u001b[0;32m      <a href='vscode-notebook-cell:/c%3A/Users/harik/Desktop/All%20Folder/PGDA/Interships%20%26%20Projects/NLP/End-to-End%20Workflow/cnnClassifier/research/st_03.ipynb#X20sZmlsZQ%3D%3D?line=6'>7</a>\u001b[0m \u001b[39mexcept\u001b[39;00m \u001b[39mException\u001b[39;00m \u001b[39mas\u001b[39;00m e:\n\u001b[1;32m----> <a href='vscode-notebook-cell:/c%3A/Users/harik/Desktop/All%20Folder/PGDA/Interships%20%26%20Projects/NLP/End-to-End%20Workflow/cnnClassifier/research/st_03.ipynb#X20sZmlsZQ%3D%3D?line=7'>8</a>\u001b[0m     \u001b[39mraise\u001b[39;00m e\n",
      "\u001b[1;32mc:\\Users\\harik\\Desktop\\All Folder\\PGDA\\Interships & Projects\\NLP\\End-to-End Workflow\\cnnClassifier\\research\\st_03.ipynb Cell 15\u001b[0m line \u001b[0;36m3\n\u001b[0;32m      <a href='vscode-notebook-cell:/c%3A/Users/harik/Desktop/All%20Folder/PGDA/Interships%20%26%20Projects/NLP/End-to-End%20Workflow/cnnClassifier/research/st_03.ipynb#X20sZmlsZQ%3D%3D?line=0'>1</a>\u001b[0m \u001b[39mtry\u001b[39;00m:\n\u001b[0;32m      <a href='vscode-notebook-cell:/c%3A/Users/harik/Desktop/All%20Folder/PGDA/Interships%20%26%20Projects/NLP/End-to-End%20Workflow/cnnClassifier/research/st_03.ipynb#X20sZmlsZQ%3D%3D?line=1'>2</a>\u001b[0m     config\u001b[39m=\u001b[39m ConfigurationManager()\n\u001b[1;32m----> <a href='vscode-notebook-cell:/c%3A/Users/harik/Desktop/All%20Folder/PGDA/Interships%20%26%20Projects/NLP/End-to-End%20Workflow/cnnClassifier/research/st_03.ipynb#X20sZmlsZQ%3D%3D?line=2'>3</a>\u001b[0m     prepare_callback_config\u001b[39m=\u001b[39m config\u001b[39m.\u001b[39;49mget_prepare_callback_config()\n\u001b[0;32m      <a href='vscode-notebook-cell:/c%3A/Users/harik/Desktop/All%20Folder/PGDA/Interships%20%26%20Projects/NLP/End-to-End%20Workflow/cnnClassifier/research/st_03.ipynb#X20sZmlsZQ%3D%3D?line=3'>4</a>\u001b[0m     prepare_callbacks\u001b[39m=\u001b[39m PrepareCallback(config\u001b[39m=\u001b[39m prepare_callback_config)\n\u001b[0;32m      <a href='vscode-notebook-cell:/c%3A/Users/harik/Desktop/All%20Folder/PGDA/Interships%20%26%20Projects/NLP/End-to-End%20Workflow/cnnClassifier/research/st_03.ipynb#X20sZmlsZQ%3D%3D?line=4'>5</a>\u001b[0m     callback_list\u001b[39m=\u001b[39m prepare_callbacks\u001b[39m.\u001b[39mget_tb_ckpt_callbacks()\n",
      "\u001b[1;32mc:\\Users\\harik\\Desktop\\All Folder\\PGDA\\Interships & Projects\\NLP\\End-to-End Workflow\\cnnClassifier\\research\\st_03.ipynb Cell 15\u001b[0m line \u001b[0;36m1\n\u001b[0;32m     <a href='vscode-notebook-cell:/c%3A/Users/harik/Desktop/All%20Folder/PGDA/Interships%20%26%20Projects/NLP/End-to-End%20Workflow/cnnClassifier/research/st_03.ipynb#X20sZmlsZQ%3D%3D?line=14'>15</a>\u001b[0m config \u001b[39m=\u001b[39m \u001b[39mself\u001b[39m\u001b[39m.\u001b[39mconfig\u001b[39m.\u001b[39mprepare_callbacks\n\u001b[0;32m     <a href='vscode-notebook-cell:/c%3A/Users/harik/Desktop/All%20Folder/PGDA/Interships%20%26%20Projects/NLP/End-to-End%20Workflow/cnnClassifier/research/st_03.ipynb#X20sZmlsZQ%3D%3D?line=15'>16</a>\u001b[0m model_ckpt_dir\u001b[39m=\u001b[39m os\u001b[39m.\u001b[39mpath\u001b[39m.\u001b[39mdirname(config\u001b[39m.\u001b[39mcheckpoint_model_filepath)   \u001b[39m# Now it ignores the extension (model.h5) and only creating the dir\u001b[39;00m\n\u001b[1;32m---> <a href='vscode-notebook-cell:/c%3A/Users/harik/Desktop/All%20Folder/PGDA/Interships%20%26%20Projects/NLP/End-to-End%20Workflow/cnnClassifier/research/st_03.ipynb#X20sZmlsZQ%3D%3D?line=17'>18</a>\u001b[0m create_directories(\n\u001b[0;32m     <a href='vscode-notebook-cell:/c%3A/Users/harik/Desktop/All%20Folder/PGDA/Interships%20%26%20Projects/NLP/End-to-End%20Workflow/cnnClassifier/research/st_03.ipynb#X20sZmlsZQ%3D%3D?line=18'>19</a>\u001b[0m       Path(model_ckpt_dir),\n\u001b[0;32m     <a href='vscode-notebook-cell:/c%3A/Users/harik/Desktop/All%20Folder/PGDA/Interships%20%26%20Projects/NLP/End-to-End%20Workflow/cnnClassifier/research/st_03.ipynb#X20sZmlsZQ%3D%3D?line=19'>20</a>\u001b[0m       Path(config\u001b[39m.\u001b[39;49mtensorboard_root_log_dir)  \u001b[39m# Here we dont need to create root dir again as it will be automatically created  with these codes                                                        \u001b[39;49;00m\n\u001b[0;32m     <a href='vscode-notebook-cell:/c%3A/Users/harik/Desktop/All%20Folder/PGDA/Interships%20%26%20Projects/NLP/End-to-End%20Workflow/cnnClassifier/research/st_03.ipynb#X20sZmlsZQ%3D%3D?line=20'>21</a>\u001b[0m )\n\u001b[0;32m     <a href='vscode-notebook-cell:/c%3A/Users/harik/Desktop/All%20Folder/PGDA/Interships%20%26%20Projects/NLP/End-to-End%20Workflow/cnnClassifier/research/st_03.ipynb#X20sZmlsZQ%3D%3D?line=22'>23</a>\u001b[0m prepare_callback_config \u001b[39m=\u001b[39m PrepareCallbackConfig(               \u001b[39m# Now we calling the entity we prepared before\u001b[39;00m\n\u001b[0;32m     <a href='vscode-notebook-cell:/c%3A/Users/harik/Desktop/All%20Folder/PGDA/Interships%20%26%20Projects/NLP/End-to-End%20Workflow/cnnClassifier/research/st_03.ipynb#X20sZmlsZQ%3D%3D?line=23'>24</a>\u001b[0m       root_dir\u001b[39m=\u001b[39m Path(config\u001b[39m.\u001b[39mroot_dir),\n\u001b[0;32m     <a href='vscode-notebook-cell:/c%3A/Users/harik/Desktop/All%20Folder/PGDA/Interships%20%26%20Projects/NLP/End-to-End%20Workflow/cnnClassifier/research/st_03.ipynb#X20sZmlsZQ%3D%3D?line=24'>25</a>\u001b[0m       tensorboard_root_log_dir\u001b[39m=\u001b[39m Path(config\u001b[39m.\u001b[39mtensorboard_root_log_dir),\n\u001b[0;32m     <a href='vscode-notebook-cell:/c%3A/Users/harik/Desktop/All%20Folder/PGDA/Interships%20%26%20Projects/NLP/End-to-End%20Workflow/cnnClassifier/research/st_03.ipynb#X20sZmlsZQ%3D%3D?line=25'>26</a>\u001b[0m       checkpoint_model_filepath\u001b[39m=\u001b[39m Path(config\u001b[39m.\u001b[39mcheckpoint_model_filepath)\n\u001b[0;32m     <a href='vscode-notebook-cell:/c%3A/Users/harik/Desktop/All%20Folder/PGDA/Interships%20%26%20Projects/NLP/End-to-End%20Workflow/cnnClassifier/research/st_03.ipynb#X20sZmlsZQ%3D%3D?line=26'>27</a>\u001b[0m )\n\u001b[0;32m     <a href='vscode-notebook-cell:/c%3A/Users/harik/Desktop/All%20Folder/PGDA/Interships%20%26%20Projects/NLP/End-to-End%20Workflow/cnnClassifier/research/st_03.ipynb#X20sZmlsZQ%3D%3D?line=28'>29</a>\u001b[0m \u001b[39mreturn\u001b[39;00m prepare_callback_config\n",
      "File \u001b[1;32mc:\\Users\\harik\\anaconda3\\envs\\cnncls\\lib\\site-packages\\ensure\\main.py:803\u001b[0m, in \u001b[0;36mWrappedFunction.__call__\u001b[1;34m(self, *args, **kwargs)\u001b[0m\n\u001b[0;32m    798\u001b[0m     \u001b[39mif\u001b[39;00m \u001b[39mnot\u001b[39;00m \u001b[39misinstance\u001b[39m(value, templ):\n\u001b[0;32m    799\u001b[0m         msg \u001b[39m=\u001b[39m (\n\u001b[0;32m    800\u001b[0m             \u001b[39m\"\u001b[39m\u001b[39mArgument \u001b[39m\u001b[39m{arg}\u001b[39;00m\u001b[39m of type \u001b[39m\u001b[39m{valt}\u001b[39;00m\u001b[39m to \u001b[39m\u001b[39m{f}\u001b[39;00m\u001b[39m \u001b[39m\u001b[39m\"\u001b[39m\n\u001b[0;32m    801\u001b[0m             \u001b[39m\"\u001b[39m\u001b[39mdoes not match annotation type \u001b[39m\u001b[39m{t}\u001b[39;00m\u001b[39m\"\u001b[39m\n\u001b[0;32m    802\u001b[0m         )\n\u001b[1;32m--> 803\u001b[0m         \u001b[39mraise\u001b[39;00m EnsureError(msg\u001b[39m.\u001b[39mformat(\n\u001b[0;32m    804\u001b[0m             arg\u001b[39m=\u001b[39marg, f\u001b[39m=\u001b[39m\u001b[39mself\u001b[39m\u001b[39m.\u001b[39mf, t\u001b[39m=\u001b[39mtempl, valt\u001b[39m=\u001b[39m\u001b[39mtype\u001b[39m(value)\n\u001b[0;32m    805\u001b[0m         ))\n\u001b[0;32m    807\u001b[0m \u001b[39mreturn\u001b[39;00m \u001b[39mself\u001b[39m\u001b[39m.\u001b[39mf(\u001b[39m*\u001b[39margs, \u001b[39m*\u001b[39m\u001b[39m*\u001b[39mkwargs)\n",
      "\u001b[1;31mEnsureError\u001b[0m: Argument path_to_directories of type <class 'pathlib.WindowsPath'> to <function create_directories at 0x0000022B99575040> does not match annotation type <class 'list'>"
     ]
    }
   ],
   "source": [
    "try:\n",
    "    config= ConfigurationManager()\n",
    "    prepare_callback_config= config.get_prepare_callback_config()\n",
    "    prepare_callbacks= PrepareCallback(config= prepare_callback_config)\n",
    "    callback_list= prepare_callbacks.get_tb_ckpt_callbacks()\n",
    "\n",
    "except Exception as e:\n",
    "    raise e"
   ]
  },
  {
   "cell_type": "code",
   "execution_count": null,
   "metadata": {},
   "outputs": [],
   "source": []
  }
 ],
 "metadata": {
  "kernelspec": {
   "display_name": "cnncls",
   "language": "python",
   "name": "python3"
  },
  "language_info": {
   "codemirror_mode": {
    "name": "ipython",
    "version": 3
   },
   "file_extension": ".py",
   "mimetype": "text/x-python",
   "name": "python",
   "nbconvert_exporter": "python",
   "pygments_lexer": "ipython3",
   "version": "3.8.17"
  },
  "orig_nbformat": 4
 },
 "nbformat": 4,
 "nbformat_minor": 2
}
