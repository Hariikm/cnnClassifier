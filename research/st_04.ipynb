{
 "cells": [
  {
   "cell_type": "markdown",
   "metadata": {},
   "source": [
    "## Training"
   ]
  },
  {
   "cell_type": "code",
   "execution_count": 1,
   "metadata": {},
   "outputs": [],
   "source": [
    "import os"
   ]
  },
  {
   "cell_type": "code",
   "execution_count": 3,
   "metadata": {},
   "outputs": [
    {
     "data": {
      "text/plain": [
       "'c:\\\\Users\\\\harik\\\\Desktop\\\\All Folder\\\\PGDA\\\\Interships & Projects\\\\NLP\\\\End-to-End Workflow\\\\cnnClassifier\\\\research'"
      ]
     },
     "execution_count": 3,
     "metadata": {},
     "output_type": "execute_result"
    }
   ],
   "source": [
    "%pwd"
   ]
  },
  {
   "cell_type": "code",
   "execution_count": 31,
   "metadata": {},
   "outputs": [],
   "source": [
    "# os.chdir(\"c:\\\\Users\\\\harik\\\\Desktop\\\\All Folder\\\\PGDA\\\\Interships & Projects\\\\NLP\\\\End-to-End Workflow/cnnClassifier\")"
   ]
  },
  {
   "cell_type": "code",
   "execution_count": 4,
   "metadata": {},
   "outputs": [],
   "source": [
    "os.chdir(\"../\")"
   ]
  },
  {
   "cell_type": "code",
   "execution_count": 6,
   "metadata": {},
   "outputs": [
    {
     "data": {
      "text/plain": [
       "'c:\\\\Users\\\\harik\\\\Desktop\\\\All Folder\\\\PGDA\\\\Interships & Projects\\\\NLP\\\\End-to-End Workflow\\\\cnnClassifier'"
      ]
     },
     "execution_count": 6,
     "metadata": {},
     "output_type": "execute_result"
    }
   ],
   "source": [
    "%pwd"
   ]
  },
  {
   "cell_type": "code",
   "execution_count": 7,
   "metadata": {},
   "outputs": [],
   "source": [
    "from dataclasses import dataclass\n",
    "from pathlib import Path\n",
    "\n",
    "@dataclass(frozen= True)\n",
    "class TrainingConfig:\n",
    "    root_dir: Path\n",
    "    trained_model_path: Path\n",
    "    updated_base_model_path: Path\n",
    "    training_data: Path\n",
    "    params_epochs: int\n",
    "    params_batch_size: int\n",
    "    params_is_augmentation: bool\n",
    "    params_image_size: list\n",
    "\n",
    "\n",
    "from cnnClassifier.entity import PrepareCallbackConfig\n",
    "\n",
    "# @dataclass(frozen= True)\n",
    "# class PrepareCallbackConfig:\n",
    "#     root_dir: Path\n",
    "#     tensorboard_root_log_dir: Path\n",
    "#     checkpoint_model_filepath: Path"
   ]
  },
  {
   "cell_type": "code",
   "execution_count": 8,
   "metadata": {},
   "outputs": [],
   "source": [
    "from cnnClassifier.constants import *\n",
    "from cnnClassifier.utils import read_yaml, create_directories\n",
    "import tensorflow as tf"
   ]
  },
  {
   "cell_type": "code",
   "execution_count": 9,
   "metadata": {},
   "outputs": [],
   "source": [
    "class ConfigurationManager:\n",
    "    def __init__(\n",
    "            self,\n",
    "            config_filepath = CONFIG_FILE_PATH,\n",
    "            params_filepath = PARAMS_FILE_PATH):\n",
    "\n",
    "            self.config = read_yaml(config_filepath)\n",
    "            self.params = read_yaml(params_filepath)\n",
    "\n",
    "            create_directories([self.config.artifacts_root])\n",
    "\n",
    "\n",
    "    def get_prepare_callback_config(self) -> PrepareCallbackConfig:\n",
    "          \n",
    "          config = self.config.prepare_callbacks\n",
    "          model_ckpt_dir= os.path.dirname(config.checkpoint_model_filepath)   # Now it ignores the extension (model.h5) and only creating the dir\n",
    "\n",
    "          create_directories([\n",
    "                Path(model_ckpt_dir),\n",
    "                Path(config.tensorboard_root_log_dir)  # Here we dont need to create root dir again as it will be automatically created  with these codes                                                        \n",
    "          ])\n",
    "\n",
    "          prepare_callback_config = PrepareCallbackConfig(               # Now we calling the entity we prepared before\n",
    "                root_dir= Path(config.root_dir),\n",
    "                tensorboard_root_log_dir= Path(config.tensorboard_root_log_dir),\n",
    "                checkpoint_model_filepath= Path(config.checkpoint_model_filepath)\n",
    "          )\n",
    "\n",
    "          return prepare_callback_config\n",
    "    \n",
    "\n",
    "    def get_training_config(self) -> TrainingConfig:\n",
    "          training= self.config.training\n",
    "          prepare_base_model= self.config.prepare_base_model\n",
    "          params= self.params\n",
    "          training_data= os.path.join(self.config.data_ingestion.unzip_dir, \"PetImages\")\n",
    "          \n",
    "          create_directories([\n",
    "                Path(training.root_dir)\n",
    "          ])\n",
    "\n",
    "          training_config= TrainingConfig(\n",
    "                root_dir= Path(training.root_dir),\n",
    "                trained_model_path= Path(training.trained_model_path),\n",
    "                updated_base_model_path= Path(prepare_base_model.updated_base_model_path),\n",
    "                training_data= Path(training_data),\n",
    "                params_epochs= params.EPOCHS,\n",
    "                params_batch_size= params.BATCH_SIZE,\n",
    "                params_is_augmentation= params.AUGMENTATION,\n",
    "                params_image_size= params.IMAGE_SIZE\n",
    "          )\n",
    "\n",
    "          return training_config"
   ]
  },
  {
   "cell_type": "code",
   "execution_count": 10,
   "metadata": {},
   "outputs": [],
   "source": [
    "import time"
   ]
  },
  {
   "cell_type": "code",
   "execution_count": 11,
   "metadata": {},
   "outputs": [],
   "source": [
    "from cnnClassifier.components import PrepareCallback\n",
    "\n",
    "\n",
    "# class PrepareCallback:\n",
    "\n",
    "#     def __init__(self, config: PrepareCallbackConfig):\n",
    "#         self.config= config\n",
    "\n",
    "\n",
    "#     @property\n",
    "#     def _create_tb_callback(self):\n",
    "#         timestamp= time.strftime(\"%Y-%m-%d-%H-%M-%S\")\n",
    "#         tb_running_log_dir= os.path.join(\n",
    "#             self.config.tensorboard_root_log_dir,\n",
    "#             f\"tb_logs_at_{timestamp}\"\n",
    "#         )\n",
    "#         return tf.keras.callbacks.TensorBoard(log_dir= tb_running_log_dir)\n",
    "    \n",
    "#     \"\"\" \n",
    "#         When we use this property decorator, if we are calling this fuction (object) else where we dont actually need to specify the () to call\n",
    "#         it. We can access this object like its a attribute.\n",
    "\n",
    "#     \"\"\"\n",
    "\n",
    "#     @property\n",
    "#     def _create_ckpt_callbacks(self):\n",
    "#         return tf.keras.callbacks.ModelCheckpoint(\n",
    "#             filepath= str(self.config.checkpoint_model_filepath),\n",
    "#             save_best_only= True\n",
    "#         )\n",
    "    \n",
    "#     def get_tb_ckpt_callbacks(self):\n",
    "#         return[\n",
    "#             self._create_tb_callback,\n",
    "#             self._create_ckpt_callbacks\n",
    "#         ]"
   ]
  },
  {
   "cell_type": "code",
   "execution_count": 12,
   "metadata": {},
   "outputs": [],
   "source": [
    "import os\n",
    "import urllib.request as request\n",
    "from zipfile import ZipFile\n",
    "import tensorflow as tf\n",
    "import time"
   ]
  },
  {
   "cell_type": "code",
   "execution_count": 13,
   "metadata": {},
   "outputs": [],
   "source": [
    "class Training:\n",
    "    def __init__(self, config: TrainingConfig):\n",
    "        self.config= config\n",
    "\n",
    "    def get_base_model(self):\n",
    "        self.model= tf.keras.models.load_model(\n",
    "            self.config.updated_base_model_path\n",
    "        )\n",
    "\n",
    "    def train_valid_generator(self):\n",
    "\n",
    "        datagenerator_kwargs= dict(\n",
    "            rescale= 1./255,\n",
    "            validation_split= 0.20\n",
    "        )\n",
    "\n",
    "        dataflow_kwargs= dict(\n",
    "            target_size= self.config.params_image_size[:-1],\n",
    "            batch_size= self.config.params_batch_size,\n",
    "            interpolation= \"bilinear\"\n",
    "\n",
    "        )\n",
    "\n",
    "        valid_datagenerator= tf.keras.preprocessing.image.ImageDataGenerator(\n",
    "            **datagenerator_kwargs\n",
    "        )\n",
    "\n",
    "        self.valid_generator= valid_datagenerator.flow_from_directory(\n",
    "            directory= self.config.training_data,\n",
    "            subset= \"validation\",\n",
    "            shuffle= False\n",
    "            **dataflow_kwargs\n",
    "        )\n",
    "\n",
    "        if self.config.params_is_augmentation:\n",
    "            train_datagenerator= tf.keras.preprocessing.image.ImageDataGenerator(\n",
    "                rotation_range= 40,\n",
    "                horizontal_flip= True,\n",
    "                width_shift_range= 0.2,\n",
    "                height_shift_range= 0.2,\n",
    "                shear_range= 0.2,\n",
    "                zoom_range= 0.2,\n",
    "                **datagenerator_kwargs\n",
    "            )\n",
    "\n",
    "        else:\n",
    "            train_datagenerator= valid_datagenerator\n",
    "\n",
    "        self.train_generator= train_datagenerator.flow_from_directory(\n",
    "            directory= self.config.training_data,\n",
    "            subset= \"training\",\n",
    "            shuffle= True,\n",
    "            **dataflow_kwargs\n",
    "        )\n",
    "\n",
    "    @staticmethod\n",
    "    def save_model(path: Path, model: tf.keras.Model):\n",
    "        model.save(path)\n",
    "\n",
    "\n",
    "\n",
    "    def train(self, callback_list: list):\n",
    "        self.steps_per_epoch= self.train_generator.samples // self.train_generator.batch_size\n",
    "        self.validation_steps= self.valid_generator.samples // self.valid_generator.batch_size\n",
    "\n",
    "        self.model.fit(\n",
    "            self.train_generator,\n",
    "            epochs= self.config.params_epochs,\n",
    "            steps_per_epoch= self.steps_per_epoch,\n",
    "            validation_steps= self.validation_steps,\n",
    "            validation_data= self.valid_generator,\n",
    "            callbacks= callback_list\n",
    "        )\n",
    "\n",
    "        self.save_model(\n",
    "            path= self.config.trained_model_path,\n",
    "            model= self.model\n",
    "        )"
   ]
  },
  {
   "cell_type": "code",
   "execution_count": 14,
   "metadata": {},
   "outputs": [
    {
     "name": "stdout",
     "output_type": "stream",
     "text": [
      "[2023-10-13 08:29:57,876: INFO: common: yaml file: config\\config.yaml loaded succesfully]\n",
      "[2023-10-13 08:29:57,881: INFO: common: yaml file: params.yaml loaded succesfully]\n",
      "[2023-10-13 08:29:57,881: INFO: common: created directory at: artifacts]\n",
      "[2023-10-13 08:29:57,881: INFO: common: created directory at: artifacts\\prepare_callbacks\\checkpoint_dir]\n",
      "[2023-10-13 08:29:57,881: INFO: common: created directory at: artifacts\\prepare_callbacks\\tensorboard_log_dir]\n",
      "[2023-10-13 08:29:57,890: INFO: common: created directory at: artifacts\\training]\n"
     ]
    },
    {
     "ename": "TypeError",
     "evalue": "unsupported operand type(s) for ** or pow(): 'bool' and 'dict'",
     "output_type": "error",
     "traceback": [
      "\u001b[1;31m---------------------------------------------------------------------------\u001b[0m",
      "\u001b[1;31mTypeError\u001b[0m                                 Traceback (most recent call last)",
      "\u001b[1;32mc:\\Users\\harik\\Desktop\\All Folder\\PGDA\\Interships & Projects\\NLP\\End-to-End Workflow\\cnnClassifier\\research\\st_04.ipynb Cell 14\u001b[0m line \u001b[0;36m1\n\u001b[0;32m     <a href='vscode-notebook-cell:/c%3A/Users/harik/Desktop/All%20Folder/PGDA/Interships%20%26%20Projects/NLP/End-to-End%20Workflow/cnnClassifier/research/st_04.ipynb#X20sZmlsZQ%3D%3D?line=10'>11</a>\u001b[0m     training\u001b[39m.\u001b[39mtrain(\n\u001b[0;32m     <a href='vscode-notebook-cell:/c%3A/Users/harik/Desktop/All%20Folder/PGDA/Interships%20%26%20Projects/NLP/End-to-End%20Workflow/cnnClassifier/research/st_04.ipynb#X20sZmlsZQ%3D%3D?line=11'>12</a>\u001b[0m         callback_list\u001b[39m=\u001b[39m callback_list\n\u001b[0;32m     <a href='vscode-notebook-cell:/c%3A/Users/harik/Desktop/All%20Folder/PGDA/Interships%20%26%20Projects/NLP/End-to-End%20Workflow/cnnClassifier/research/st_04.ipynb#X20sZmlsZQ%3D%3D?line=12'>13</a>\u001b[0m     )\n\u001b[0;32m     <a href='vscode-notebook-cell:/c%3A/Users/harik/Desktop/All%20Folder/PGDA/Interships%20%26%20Projects/NLP/End-to-End%20Workflow/cnnClassifier/research/st_04.ipynb#X20sZmlsZQ%3D%3D?line=14'>15</a>\u001b[0m \u001b[39mexcept\u001b[39;00m \u001b[39mException\u001b[39;00m \u001b[39mas\u001b[39;00m e:\n\u001b[1;32m---> <a href='vscode-notebook-cell:/c%3A/Users/harik/Desktop/All%20Folder/PGDA/Interships%20%26%20Projects/NLP/End-to-End%20Workflow/cnnClassifier/research/st_04.ipynb#X20sZmlsZQ%3D%3D?line=15'>16</a>\u001b[0m     \u001b[39mraise\u001b[39;00m e\n",
      "\u001b[1;32mc:\\Users\\harik\\Desktop\\All Folder\\PGDA\\Interships & Projects\\NLP\\End-to-End Workflow\\cnnClassifier\\research\\st_04.ipynb Cell 14\u001b[0m line \u001b[0;36m1\n\u001b[0;32m      <a href='vscode-notebook-cell:/c%3A/Users/harik/Desktop/All%20Folder/PGDA/Interships%20%26%20Projects/NLP/End-to-End%20Workflow/cnnClassifier/research/st_04.ipynb#X20sZmlsZQ%3D%3D?line=7'>8</a>\u001b[0m     training\u001b[39m=\u001b[39m Training(config\u001b[39m=\u001b[39m training_config)\n\u001b[0;32m      <a href='vscode-notebook-cell:/c%3A/Users/harik/Desktop/All%20Folder/PGDA/Interships%20%26%20Projects/NLP/End-to-End%20Workflow/cnnClassifier/research/st_04.ipynb#X20sZmlsZQ%3D%3D?line=8'>9</a>\u001b[0m     training\u001b[39m.\u001b[39mget_base_model()\n\u001b[1;32m---> <a href='vscode-notebook-cell:/c%3A/Users/harik/Desktop/All%20Folder/PGDA/Interships%20%26%20Projects/NLP/End-to-End%20Workflow/cnnClassifier/research/st_04.ipynb#X20sZmlsZQ%3D%3D?line=9'>10</a>\u001b[0m     training\u001b[39m.\u001b[39;49mtrain_valid_generator()\n\u001b[0;32m     <a href='vscode-notebook-cell:/c%3A/Users/harik/Desktop/All%20Folder/PGDA/Interships%20%26%20Projects/NLP/End-to-End%20Workflow/cnnClassifier/research/st_04.ipynb#X20sZmlsZQ%3D%3D?line=10'>11</a>\u001b[0m     training\u001b[39m.\u001b[39mtrain(\n\u001b[0;32m     <a href='vscode-notebook-cell:/c%3A/Users/harik/Desktop/All%20Folder/PGDA/Interships%20%26%20Projects/NLP/End-to-End%20Workflow/cnnClassifier/research/st_04.ipynb#X20sZmlsZQ%3D%3D?line=11'>12</a>\u001b[0m         callback_list\u001b[39m=\u001b[39m callback_list\n\u001b[0;32m     <a href='vscode-notebook-cell:/c%3A/Users/harik/Desktop/All%20Folder/PGDA/Interships%20%26%20Projects/NLP/End-to-End%20Workflow/cnnClassifier/research/st_04.ipynb#X20sZmlsZQ%3D%3D?line=12'>13</a>\u001b[0m     )\n\u001b[0;32m     <a href='vscode-notebook-cell:/c%3A/Users/harik/Desktop/All%20Folder/PGDA/Interships%20%26%20Projects/NLP/End-to-End%20Workflow/cnnClassifier/research/st_04.ipynb#X20sZmlsZQ%3D%3D?line=14'>15</a>\u001b[0m \u001b[39mexcept\u001b[39;00m \u001b[39mException\u001b[39;00m \u001b[39mas\u001b[39;00m e:\n",
      "\u001b[1;32mc:\\Users\\harik\\Desktop\\All Folder\\PGDA\\Interships & Projects\\NLP\\End-to-End Workflow\\cnnClassifier\\research\\st_04.ipynb Cell 14\u001b[0m line \u001b[0;36m3\n\u001b[0;32m     <a href='vscode-notebook-cell:/c%3A/Users/harik/Desktop/All%20Folder/PGDA/Interships%20%26%20Projects/NLP/End-to-End%20Workflow/cnnClassifier/research/st_04.ipynb#X20sZmlsZQ%3D%3D?line=16'>17</a>\u001b[0m dataflow_kwargs\u001b[39m=\u001b[39m \u001b[39mdict\u001b[39m(\n\u001b[0;32m     <a href='vscode-notebook-cell:/c%3A/Users/harik/Desktop/All%20Folder/PGDA/Interships%20%26%20Projects/NLP/End-to-End%20Workflow/cnnClassifier/research/st_04.ipynb#X20sZmlsZQ%3D%3D?line=17'>18</a>\u001b[0m     target_size\u001b[39m=\u001b[39m \u001b[39mself\u001b[39m\u001b[39m.\u001b[39mconfig\u001b[39m.\u001b[39mparams_image_size[:\u001b[39m-\u001b[39m\u001b[39m1\u001b[39m],\n\u001b[0;32m     <a href='vscode-notebook-cell:/c%3A/Users/harik/Desktop/All%20Folder/PGDA/Interships%20%26%20Projects/NLP/End-to-End%20Workflow/cnnClassifier/research/st_04.ipynb#X20sZmlsZQ%3D%3D?line=18'>19</a>\u001b[0m     batch_size\u001b[39m=\u001b[39m \u001b[39mself\u001b[39m\u001b[39m.\u001b[39mconfig\u001b[39m.\u001b[39mparams_batch_size,\n\u001b[0;32m     <a href='vscode-notebook-cell:/c%3A/Users/harik/Desktop/All%20Folder/PGDA/Interships%20%26%20Projects/NLP/End-to-End%20Workflow/cnnClassifier/research/st_04.ipynb#X20sZmlsZQ%3D%3D?line=19'>20</a>\u001b[0m     interpolation\u001b[39m=\u001b[39m \u001b[39m\"\u001b[39m\u001b[39mbilinear\u001b[39m\u001b[39m\"\u001b[39m\n\u001b[0;32m     <a href='vscode-notebook-cell:/c%3A/Users/harik/Desktop/All%20Folder/PGDA/Interships%20%26%20Projects/NLP/End-to-End%20Workflow/cnnClassifier/research/st_04.ipynb#X20sZmlsZQ%3D%3D?line=20'>21</a>\u001b[0m \n\u001b[0;32m     <a href='vscode-notebook-cell:/c%3A/Users/harik/Desktop/All%20Folder/PGDA/Interships%20%26%20Projects/NLP/End-to-End%20Workflow/cnnClassifier/research/st_04.ipynb#X20sZmlsZQ%3D%3D?line=21'>22</a>\u001b[0m )\n\u001b[0;32m     <a href='vscode-notebook-cell:/c%3A/Users/harik/Desktop/All%20Folder/PGDA/Interships%20%26%20Projects/NLP/End-to-End%20Workflow/cnnClassifier/research/st_04.ipynb#X20sZmlsZQ%3D%3D?line=23'>24</a>\u001b[0m valid_datagenerator\u001b[39m=\u001b[39m tf\u001b[39m.\u001b[39mkeras\u001b[39m.\u001b[39mpreprocessing\u001b[39m.\u001b[39mimage\u001b[39m.\u001b[39mImageDataGenerator(\n\u001b[0;32m     <a href='vscode-notebook-cell:/c%3A/Users/harik/Desktop/All%20Folder/PGDA/Interships%20%26%20Projects/NLP/End-to-End%20Workflow/cnnClassifier/research/st_04.ipynb#X20sZmlsZQ%3D%3D?line=24'>25</a>\u001b[0m     \u001b[39m*\u001b[39m\u001b[39m*\u001b[39mdatagenerator_kwargs\n\u001b[0;32m     <a href='vscode-notebook-cell:/c%3A/Users/harik/Desktop/All%20Folder/PGDA/Interships%20%26%20Projects/NLP/End-to-End%20Workflow/cnnClassifier/research/st_04.ipynb#X20sZmlsZQ%3D%3D?line=25'>26</a>\u001b[0m )\n\u001b[0;32m     <a href='vscode-notebook-cell:/c%3A/Users/harik/Desktop/All%20Folder/PGDA/Interships%20%26%20Projects/NLP/End-to-End%20Workflow/cnnClassifier/research/st_04.ipynb#X20sZmlsZQ%3D%3D?line=27'>28</a>\u001b[0m \u001b[39mself\u001b[39m\u001b[39m.\u001b[39mvalid_generator\u001b[39m=\u001b[39m valid_datagenerator\u001b[39m.\u001b[39mflow_from_directory(\n\u001b[0;32m     <a href='vscode-notebook-cell:/c%3A/Users/harik/Desktop/All%20Folder/PGDA/Interships%20%26%20Projects/NLP/End-to-End%20Workflow/cnnClassifier/research/st_04.ipynb#X20sZmlsZQ%3D%3D?line=28'>29</a>\u001b[0m     directory\u001b[39m=\u001b[39m \u001b[39mself\u001b[39m\u001b[39m.\u001b[39mconfig\u001b[39m.\u001b[39mtraining_data,\n\u001b[0;32m     <a href='vscode-notebook-cell:/c%3A/Users/harik/Desktop/All%20Folder/PGDA/Interships%20%26%20Projects/NLP/End-to-End%20Workflow/cnnClassifier/research/st_04.ipynb#X20sZmlsZQ%3D%3D?line=29'>30</a>\u001b[0m     subset\u001b[39m=\u001b[39m \u001b[39m\"\u001b[39m\u001b[39mvalidation\u001b[39m\u001b[39m\"\u001b[39m,\n\u001b[1;32m---> <a href='vscode-notebook-cell:/c%3A/Users/harik/Desktop/All%20Folder/PGDA/Interships%20%26%20Projects/NLP/End-to-End%20Workflow/cnnClassifier/research/st_04.ipynb#X20sZmlsZQ%3D%3D?line=30'>31</a>\u001b[0m     shuffle\u001b[39m=\u001b[39m \u001b[39mFalse\u001b[39;49;00m\n\u001b[0;32m     <a href='vscode-notebook-cell:/c%3A/Users/harik/Desktop/All%20Folder/PGDA/Interships%20%26%20Projects/NLP/End-to-End%20Workflow/cnnClassifier/research/st_04.ipynb#X20sZmlsZQ%3D%3D?line=31'>32</a>\u001b[0m     \u001b[39m*\u001b[39;49m\u001b[39m*\u001b[39;49mdataflow_kwargs\n\u001b[0;32m     <a href='vscode-notebook-cell:/c%3A/Users/harik/Desktop/All%20Folder/PGDA/Interships%20%26%20Projects/NLP/End-to-End%20Workflow/cnnClassifier/research/st_04.ipynb#X20sZmlsZQ%3D%3D?line=32'>33</a>\u001b[0m )\n\u001b[0;32m     <a href='vscode-notebook-cell:/c%3A/Users/harik/Desktop/All%20Folder/PGDA/Interships%20%26%20Projects/NLP/End-to-End%20Workflow/cnnClassifier/research/st_04.ipynb#X20sZmlsZQ%3D%3D?line=34'>35</a>\u001b[0m \u001b[39mif\u001b[39;00m \u001b[39mself\u001b[39m\u001b[39m.\u001b[39mconfig\u001b[39m.\u001b[39mparams_is_augmentation:\n\u001b[0;32m     <a href='vscode-notebook-cell:/c%3A/Users/harik/Desktop/All%20Folder/PGDA/Interships%20%26%20Projects/NLP/End-to-End%20Workflow/cnnClassifier/research/st_04.ipynb#X20sZmlsZQ%3D%3D?line=35'>36</a>\u001b[0m     train_datagenerator\u001b[39m=\u001b[39m tf\u001b[39m.\u001b[39mkeras\u001b[39m.\u001b[39mpreprocessing\u001b[39m.\u001b[39mimage\u001b[39m.\u001b[39mImageDataGenerator(\n\u001b[0;32m     <a href='vscode-notebook-cell:/c%3A/Users/harik/Desktop/All%20Folder/PGDA/Interships%20%26%20Projects/NLP/End-to-End%20Workflow/cnnClassifier/research/st_04.ipynb#X20sZmlsZQ%3D%3D?line=36'>37</a>\u001b[0m         rotation_range\u001b[39m=\u001b[39m \u001b[39m40\u001b[39m,\n\u001b[0;32m     <a href='vscode-notebook-cell:/c%3A/Users/harik/Desktop/All%20Folder/PGDA/Interships%20%26%20Projects/NLP/End-to-End%20Workflow/cnnClassifier/research/st_04.ipynb#X20sZmlsZQ%3D%3D?line=37'>38</a>\u001b[0m         horizontal_flip\u001b[39m=\u001b[39m \u001b[39mTrue\u001b[39;00m,\n\u001b[1;32m   (...)\u001b[0m\n\u001b[0;32m     <a href='vscode-notebook-cell:/c%3A/Users/harik/Desktop/All%20Folder/PGDA/Interships%20%26%20Projects/NLP/End-to-End%20Workflow/cnnClassifier/research/st_04.ipynb#X20sZmlsZQ%3D%3D?line=42'>43</a>\u001b[0m         \u001b[39m*\u001b[39m\u001b[39m*\u001b[39mdatagenerator_kwargs\n\u001b[0;32m     <a href='vscode-notebook-cell:/c%3A/Users/harik/Desktop/All%20Folder/PGDA/Interships%20%26%20Projects/NLP/End-to-End%20Workflow/cnnClassifier/research/st_04.ipynb#X20sZmlsZQ%3D%3D?line=43'>44</a>\u001b[0m     )\n",
      "\u001b[1;31mTypeError\u001b[0m: unsupported operand type(s) for ** or pow(): 'bool' and 'dict'"
     ]
    }
   ],
   "source": [
    "try:\n",
    "    config= ConfigurationManager()\n",
    "    prepare_callback_config= config.get_prepare_callback_config()\n",
    "    prepare_callbacks= PrepareCallback(config= prepare_callback_config)\n",
    "    callback_list= prepare_callbacks.get_tb_ckpt_callbacks()\n",
    "\n",
    "    training_config= config.get_training_config()\n",
    "    training= Training(config= training_config)\n",
    "    training.get_base_model()\n",
    "    training.train_valid_generator()\n",
    "    training.train(\n",
    "        callback_list= callback_list\n",
    "    )\n",
    "\n",
    "except Exception as e:\n",
    "    raise e"
   ]
  },
  {
   "cell_type": "code",
   "execution_count": null,
   "metadata": {},
   "outputs": [],
   "source": []
  }
 ],
 "metadata": {
  "kernelspec": {
   "display_name": "cnncls",
   "language": "python",
   "name": "python3"
  },
  "language_info": {
   "codemirror_mode": {
    "name": "ipython",
    "version": 3
   },
   "file_extension": ".py",
   "mimetype": "text/x-python",
   "name": "python",
   "nbconvert_exporter": "python",
   "pygments_lexer": "ipython3",
   "version": "3.8.17"
  }
 },
 "nbformat": 4,
 "nbformat_minor": 2
}
